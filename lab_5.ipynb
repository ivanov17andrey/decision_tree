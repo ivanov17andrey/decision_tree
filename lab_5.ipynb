{
 "cells": [
  {
   "cell_type": "markdown",
   "metadata": {},
   "source": [
    "# Основной код"
   ]
  },
  {
   "cell_type": "code",
   "execution_count": 1,
   "metadata": {
    "id": "Oeu1-E5DQCnd"
   },
   "outputs": [],
   "source": [
    "import pandas as pd\n",
    "import numpy as np\n",
    "import json"
   ]
  },
  {
   "cell_type": "code",
   "execution_count": 2,
   "metadata": {
    "colab": {
     "base_uri": "https://localhost:8080/",
     "height": 452
    },
    "id": "bta58XAhQJRN",
    "outputId": "bc7b3df3-3466-4f43-aae4-cfcfdb90c0be"
   },
   "outputs": [
    {
     "data": {
      "text/html": [
       "<div>\n",
       "<style scoped>\n",
       "    .dataframe tbody tr th:only-of-type {\n",
       "        vertical-align: middle;\n",
       "    }\n",
       "\n",
       "    .dataframe tbody tr th {\n",
       "        vertical-align: top;\n",
       "    }\n",
       "\n",
       "    .dataframe thead th {\n",
       "        text-align: right;\n",
       "    }\n",
       "</style>\n",
       "<table border=\"1\" class=\"dataframe\">\n",
       "  <thead>\n",
       "    <tr style=\"text-align: right;\">\n",
       "      <th></th>\n",
       "      <th>ФИО</th>\n",
       "      <th>текстовый редактор</th>\n",
       "      <th>телефон</th>\n",
       "      <th>вино</th>\n",
       "      <th>ос</th>\n",
       "      <th>напиток</th>\n",
       "    </tr>\n",
       "  </thead>\n",
       "  <tbody>\n",
       "    <tr>\n",
       "      <th>0</th>\n",
       "      <td>Воробьева Арина Сергеевна</td>\n",
       "      <td>jupyter</td>\n",
       "      <td>android</td>\n",
       "      <td>никакое</td>\n",
       "      <td>windows</td>\n",
       "      <td>кофе</td>\n",
       "    </tr>\n",
       "    <tr>\n",
       "      <th>1</th>\n",
       "      <td>Макарова Анна Евгеньевна</td>\n",
       "      <td>pycharm</td>\n",
       "      <td>iphone</td>\n",
       "      <td>никакое</td>\n",
       "      <td>windows</td>\n",
       "      <td>кофе</td>\n",
       "    </tr>\n",
       "    <tr>\n",
       "      <th>2</th>\n",
       "      <td>Мирзагаламов Ринат Радикович</td>\n",
       "      <td>pycharm</td>\n",
       "      <td>iphone</td>\n",
       "      <td>никакое</td>\n",
       "      <td>mac</td>\n",
       "      <td>чай</td>\n",
       "    </tr>\n",
       "    <tr>\n",
       "      <th>3</th>\n",
       "      <td>Олейников Иван Андреевич</td>\n",
       "      <td>vim</td>\n",
       "      <td>android</td>\n",
       "      <td>белое</td>\n",
       "      <td>linux</td>\n",
       "      <td>чай</td>\n",
       "    </tr>\n",
       "    <tr>\n",
       "      <th>4</th>\n",
       "      <td>Романадзе Екатерина Левановна</td>\n",
       "      <td>sublime text</td>\n",
       "      <td>iphone</td>\n",
       "      <td>никакое</td>\n",
       "      <td>linux</td>\n",
       "      <td>чай</td>\n",
       "    </tr>\n",
       "    <tr>\n",
       "      <th>5</th>\n",
       "      <td>Мохов Алексей Игоревич</td>\n",
       "      <td>vs code</td>\n",
       "      <td>iphone</td>\n",
       "      <td>никакое</td>\n",
       "      <td>linux</td>\n",
       "      <td>чай</td>\n",
       "    </tr>\n",
       "    <tr>\n",
       "      <th>6</th>\n",
       "      <td>Чернева Надежда</td>\n",
       "      <td>vs code</td>\n",
       "      <td>android</td>\n",
       "      <td>белое</td>\n",
       "      <td>mac</td>\n",
       "      <td>кофе</td>\n",
       "    </tr>\n",
       "    <tr>\n",
       "      <th>7</th>\n",
       "      <td>Иванов Андрей Алексеевич</td>\n",
       "      <td>vs code</td>\n",
       "      <td>iphone</td>\n",
       "      <td>никакое</td>\n",
       "      <td>mac</td>\n",
       "      <td>кофе</td>\n",
       "    </tr>\n",
       "    <tr>\n",
       "      <th>8</th>\n",
       "      <td>Еремеев Даниил Дмитриевич</td>\n",
       "      <td>sublime text</td>\n",
       "      <td>iphone</td>\n",
       "      <td>белое</td>\n",
       "      <td>mac</td>\n",
       "      <td>чай</td>\n",
       "    </tr>\n",
       "    <tr>\n",
       "      <th>9</th>\n",
       "      <td>Лебедев Евгений</td>\n",
       "      <td>pycharm</td>\n",
       "      <td>android</td>\n",
       "      <td>красное</td>\n",
       "      <td>windows</td>\n",
       "      <td>кофе</td>\n",
       "    </tr>\n",
       "    <tr>\n",
       "      <th>10</th>\n",
       "      <td>Кармазин Василий Вячеславович</td>\n",
       "      <td>vim</td>\n",
       "      <td>android</td>\n",
       "      <td>никакое</td>\n",
       "      <td>linux</td>\n",
       "      <td>чай</td>\n",
       "    </tr>\n",
       "    <tr>\n",
       "      <th>11</th>\n",
       "      <td>Девяткина Дария Владимировна</td>\n",
       "      <td>sublime text</td>\n",
       "      <td>iphone</td>\n",
       "      <td>красное</td>\n",
       "      <td>linux</td>\n",
       "      <td>кофе</td>\n",
       "    </tr>\n",
       "    <tr>\n",
       "      <th>12</th>\n",
       "      <td>Абдуллаев Артем</td>\n",
       "      <td>pycharm</td>\n",
       "      <td>iphone</td>\n",
       "      <td>красное</td>\n",
       "      <td>mac</td>\n",
       "      <td>кофе</td>\n",
       "    </tr>\n",
       "  </tbody>\n",
       "</table>\n",
       "</div>"
      ],
      "text/plain": [
       "                              ФИО текстовый редактор  телефон     вино  \\\n",
       "0       Воробьева Арина Сергеевна            jupyter  android  никакое   \n",
       "1        Макарова Анна Евгеньевна            pycharm   iphone  никакое   \n",
       "2    Мирзагаламов Ринат Радикович            pycharm   iphone  никакое   \n",
       "3        Олейников Иван Андреевич                vim  android    белое   \n",
       "4   Романадзе Екатерина Левановна       sublime text   iphone  никакое   \n",
       "5          Мохов Алексей Игоревич            vs code   iphone  никакое   \n",
       "6                 Чернева Надежда            vs code  android    белое   \n",
       "7        Иванов Андрей Алексеевич            vs code   iphone  никакое   \n",
       "8       Еремеев Даниил Дмитриевич       sublime text   iphone    белое   \n",
       "9                 Лебедев Евгений            pycharm  android  красное   \n",
       "10  Кармазин Василий Вячеславович                vim  android  никакое   \n",
       "11   Девяткина Дария Владимировна       sublime text   iphone  красное   \n",
       "12                Абдуллаев Артем            pycharm   iphone  красное   \n",
       "\n",
       "         ос напиток  \n",
       "0   windows    кофе  \n",
       "1   windows    кофе  \n",
       "2       mac     чай  \n",
       "3     linux     чай  \n",
       "4     linux     чай  \n",
       "5     linux     чай  \n",
       "6       mac    кофе  \n",
       "7       mac    кофе  \n",
       "8       mac     чай  \n",
       "9   windows    кофе  \n",
       "10    linux     чай  \n",
       "11    linux    кофе  \n",
       "12      mac    кофе  "
      ]
     },
     "execution_count": 2,
     "metadata": {},
     "output_type": "execute_result"
    }
   ],
   "source": [
    "full_data = pd.read_csv('data.csv')\n",
    "full_data"
   ]
  },
  {
   "cell_type": "code",
   "execution_count": 3,
   "metadata": {},
   "outputs": [],
   "source": [
    "class Decision_tree:\n",
    "    def __init__(self, full_data, target):\n",
    "        tree = dict()\n",
    "        train_data = full_data.drop(columns=['ФИО'])\n",
    "        \n",
    "        def addLayer(obj, data):\n",
    "            ent = self.entropy_of_all(data.drop(columns=[target]))\n",
    "            field, ent_value = max(ent, key=lambda x: x[1])\n",
    "            if ent_value == 0:\n",
    "                targets = data[target].value_counts()\n",
    "                max_count = max(dict(targets).items(), key=lambda x: x[1])[1]\n",
    "                answer = [val for val, c in dict(targets).items() if c == max_count]\n",
    "                obj[target] = ' или '.join(answer)\n",
    "                return\n",
    "\n",
    "            obj[field] = dict()\n",
    "            for v in data[field].unique():\n",
    "                obj[field][v] = dict()\n",
    "                target_values = data.loc[data[field] == v][target].value_counts()\n",
    "                if len(target_values) == 1 or ent_value == 0:\n",
    "                    obj[field][v][target] = max(dict(target_values), key=lambda x: x[1])\n",
    "                else:\n",
    "                    addLayer(obj[field][v], data.loc[data[field] == v].drop(columns=[field]))\n",
    "\n",
    "        addLayer(tree, train_data)\n",
    "\n",
    "        self.tree = tree\n",
    "        self.target = target\n",
    "    \n",
    "    def entropy(self, df, attribute):\n",
    "        s = df.nunique()[attribute]\n",
    "        n = len(df)\n",
    "        m = df[attribute].value_counts().values\n",
    "        return - sum(m/n * np.log(m/n)) \n",
    "\n",
    "    def entropy_of_all(self, df):\n",
    "        gains = []\n",
    "        for attribute in df.columns:\n",
    "            gains.append((attribute, self.entropy(df, attribute)))\n",
    "        return gains\n",
    "        \n",
    "    def predict(self, sample):\n",
    "        def nextLayer(obj, sample):\n",
    "            field = list(obj.keys())[0]\n",
    "            if field == self.target:\n",
    "                return obj[field]\n",
    "            value = sample[field]\n",
    "            return nextLayer(obj[field][value], sample)\n",
    "\n",
    "        return nextLayer(self.tree, sample)\n",
    "    \n",
    "    def show_tree(self):\n",
    "        print(json.dumps(self.tree, indent=2, ensure_ascii=False))"
   ]
  },
  {
   "cell_type": "markdown",
   "metadata": {},
   "source": [
    "# Использование"
   ]
  },
  {
   "cell_type": "markdown",
   "metadata": {},
   "source": [
    "## Дерево для определения текстового редактора"
   ]
  },
  {
   "cell_type": "code",
   "execution_count": 4,
   "metadata": {},
   "outputs": [],
   "source": [
    "text_editor_tree = Decision_tree(full_data, 'текстовый редактор')"
   ]
  },
  {
   "cell_type": "code",
   "execution_count": 5,
   "metadata": {},
   "outputs": [],
   "source": [
    "sample_text_editor = {\n",
    "    'напиток': 'чай',\n",
    "    'телефон': 'iphone',\n",
    "     'вино': 'никакое',\n",
    "     'ос': 'mac'\n",
    "}"
   ]
  },
  {
   "cell_type": "code",
   "execution_count": 6,
   "metadata": {
    "scrolled": true
   },
   "outputs": [
    {
     "data": {
      "text/plain": [
       "'pycharm'"
      ]
     },
     "execution_count": 6,
     "metadata": {},
     "output_type": "execute_result"
    }
   ],
   "source": [
    "text_editor_tree.predict(sample_text_editor)"
   ]
  },
  {
   "cell_type": "code",
   "execution_count": 7,
   "metadata": {},
   "outputs": [],
   "source": [
    "text_editor_tree = Decision_tree(full_data, 'текстовый редактор')"
   ]
  },
  {
   "cell_type": "code",
   "execution_count": 8,
   "metadata": {},
   "outputs": [],
   "source": [
    "sample_text_editor = {\n",
    "    'напиток': 'чай',\n",
    "    'телефон': 'iphone',\n",
    "     'вино': 'никакое',\n",
    "     'ос': 'mac'\n",
    "}"
   ]
  },
  {
   "cell_type": "code",
   "execution_count": 9,
   "metadata": {},
   "outputs": [
    {
     "data": {
      "text/plain": [
       "'pycharm'"
      ]
     },
     "execution_count": 9,
     "metadata": {},
     "output_type": "execute_result"
    }
   ],
   "source": [
    "text_editor_tree.predict(sample_text_editor)"
   ]
  },
  {
   "cell_type": "markdown",
   "metadata": {},
   "source": [
    "## Дерево для определения вина"
   ]
  },
  {
   "cell_type": "code",
   "execution_count": 10,
   "metadata": {},
   "outputs": [],
   "source": [
    "vine_tree = Decision_tree(full_data, 'вино')"
   ]
  },
  {
   "cell_type": "code",
   "execution_count": 11,
   "metadata": {},
   "outputs": [],
   "source": [
    "sample_vine = {\n",
    "    'напиток': 'чай',\n",
    "    'телефон': 'iphone',\n",
    "     'текстовый редактор': 'vim',\n",
    "     'ос': 'linux'\n",
    "}"
   ]
  },
  {
   "cell_type": "code",
   "execution_count": 12,
   "metadata": {},
   "outputs": [
    {
     "data": {
      "text/plain": [
       "'никакое или белое'"
      ]
     },
     "execution_count": 12,
     "metadata": {},
     "output_type": "execute_result"
    }
   ],
   "source": [
    "vine_tree.predict(sample_vine)"
   ]
  },
  {
   "cell_type": "code",
   "execution_count": 13,
   "metadata": {},
   "outputs": [
    {
     "name": "stdout",
     "output_type": "stream",
     "text": [
      "{\n",
      "  \"текстовый редактор\": {\n",
      "    \"jupyter\": {\n",
      "      \"вино\": \"никакое\"\n",
      "    },\n",
      "    \"pycharm\": {\n",
      "      \"ос\": {\n",
      "        \"windows\": {\n",
      "          \"телефон\": {\n",
      "            \"iphone\": {\n",
      "              \"вино\": \"никакое\"\n",
      "            },\n",
      "            \"android\": {\n",
      "              \"вино\": \"красное\"\n",
      "            }\n",
      "          }\n",
      "        },\n",
      "        \"mac\": {\n",
      "          \"напиток\": {\n",
      "            \"чай\": {\n",
      "              \"вино\": \"никакое\"\n",
      "            },\n",
      "            \"кофе\": {\n",
      "              \"вино\": \"красное\"\n",
      "            }\n",
      "          }\n",
      "        }\n",
      "      }\n",
      "    },\n",
      "    \"vim\": {\n",
      "      \"вино\": \"никакое или белое\"\n",
      "    },\n",
      "    \"sublime text\": {\n",
      "      \"ос\": {\n",
      "        \"linux\": {\n",
      "          \"напиток\": {\n",
      "            \"чай\": {\n",
      "              \"вино\": \"никакое\"\n",
      "            },\n",
      "            \"кофе\": {\n",
      "              \"вино\": \"красное\"\n",
      "            }\n",
      "          }\n",
      "        },\n",
      "        \"mac\": {\n",
      "          \"вино\": \"белое\"\n",
      "        }\n",
      "      }\n",
      "    },\n",
      "    \"vs code\": {\n",
      "      \"телефон\": {\n",
      "        \"iphone\": {\n",
      "          \"вино\": \"никакое\"\n",
      "        },\n",
      "        \"android\": {\n",
      "          \"вино\": \"белое\"\n",
      "        }\n",
      "      }\n",
      "    }\n",
      "  }\n",
      "}\n"
     ]
    }
   ],
   "source": [
    "vine_tree.show_tree()"
   ]
  }
 ],
 "metadata": {
  "colab": {
   "collapsed_sections": [],
   "name": "lab_5.ipynb",
   "provenance": []
  },
  "kernelspec": {
   "display_name": "Python 3",
   "language": "python",
   "name": "python3"
  },
  "language_info": {
   "codemirror_mode": {
    "name": "ipython",
    "version": 3
   },
   "file_extension": ".py",
   "mimetype": "text/x-python",
   "name": "python",
   "nbconvert_exporter": "python",
   "pygments_lexer": "ipython3",
   "version": "3.8.5"
  }
 },
 "nbformat": 4,
 "nbformat_minor": 1
}
